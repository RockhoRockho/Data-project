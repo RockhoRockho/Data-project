{
  "nbformat": 4,
  "nbformat_minor": 0,
  "metadata": {
    "colab": {
      "name": "15_UCF11 DataSet.ipynb",
      "private_outputs": true,
      "provenance": [],
      "collapsed_sections": [],
      "authorship_tag": "ABX9TyP7fGFIXB1rBqjcx4N5+SSk",
      "include_colab_link": true
    },
    "kernelspec": {
      "name": "python3",
      "display_name": "Python 3"
    },
    "language_info": {
      "name": "python"
    }
  },
  "cells": [
    {
      "cell_type": "markdown",
      "metadata": {
        "id": "view-in-github",
        "colab_type": "text"
      },
      "source": [
        "<a href=\"https://colab.research.google.com/github/RockhoRockho/Data-project/blob/main/15_UCF11_DataSet.ipynb\" target=\"_parent\"><img src=\"https://colab.research.google.com/assets/colab-badge.svg\" alt=\"Open In Colab\"/></a>"
      ]
    },
    {
      "cell_type": "code",
      "execution_count": null,
      "metadata": {
        "id": "0ecb5532"
      },
      "outputs": [],
      "source": [
        "import cv2\n",
        "import numpy as np\n",
        "import matplotlib.pyplot as plt\n",
        "from glob import glob"
      ]
    },
    {
      "cell_type": "code",
      "source": [
        "from google.colab import drive\n",
        "drive.mount('/content/drive')"
      ],
      "metadata": {
        "id": "6ojVfl3i0nay"
      },
      "execution_count": null,
      "outputs": []
    },
    {
      "cell_type": "code",
      "execution_count": null,
      "metadata": {
        "id": "b5011fd1"
      },
      "outputs": [],
      "source": [
        "len(glob('drive/MyDrive//UCF11_updated_mpg/*/*/*.mpg'))\n",
        "print(len(glob('drive/MyDrive/UCF11_updated_mpg/*/*/*.mpg')))\n",
        "file_paths = glob('drive/MyDrive/UCF11_updated_mpg/*/*/*.mpg')"
      ]
    },
    {
      "cell_type": "code",
      "execution_count": null,
      "metadata": {
        "id": "9072e3d4"
      },
      "outputs": [],
      "source": [
        "print(file_paths[0])"
      ]
    },
    {
      "cell_type": "code",
      "execution_count": null,
      "metadata": {
        "id": "3b7e581f"
      },
      "outputs": [],
      "source": [
        "cap = cv2.VideoCapture(file_paths[0])\n",
        "\n",
        "frames = []\n",
        "while True:\n",
        "    ret, frame = cap.read()\n",
        "    if not ret:\n",
        "        break\n",
        "    frame = cv2.resize(frame, (256, 256))\n",
        "    frame = frame[:, :, [2, 1, 0]] # BGR -> RGB\n",
        "    frames.append(frame)\n",
        "cap.release()"
      ]
    },
    {
      "cell_type": "code",
      "execution_count": null,
      "metadata": {
        "id": "669730c4"
      },
      "outputs": [],
      "source": [
        "arr = np.array(frames)\n",
        "plt.figure(figsize=(15, 15))\n",
        "for i in range(10):\n",
        "    plt.subplot(10, 3, 1 + 3*i)\n",
        "    plt.imshow(arr[1 + 3*i])\n",
        "    plt.subplot(10, 3, 2 + 3*i)\n",
        "    plt.imshow(arr[2 + 3*i])\n",
        "    plt.subplot(10, 3, 3 + 3*i)\n",
        "    plt.imshow(arr[3 + 3*i])\n",
        "plt.tight_layout()"
      ]
    },
    {
      "cell_type": "code",
      "execution_count": null,
      "metadata": {
        "id": "85ce3843"
      },
      "outputs": [],
      "source": [
        "len(frames) / 29.97"
      ]
    },
    {
      "cell_type": "code",
      "execution_count": null,
      "metadata": {
        "id": "f088898d"
      },
      "outputs": [],
      "source": [
        "for file_path in file_paths:\n",
        "    cap = cv2.VideoCapture(file_path)\n",
        "    length = int(cap.get(cv2.CAP_PROP_FRAME_COUNT))\n",
        "    print(file_path)\n",
        "    print(length, 'frames')\n",
        "    print(length / 29.97, 'sec')\n",
        "    cap.release()\n",
        "    break"
      ]
    },
    {
      "cell_type": "code",
      "execution_count": null,
      "metadata": {
        "id": "3a20386f"
      },
      "outputs": [],
      "source": [
        "import pandas as pd\n",
        "\n",
        "df = pd.DataFrame(columns=[\n",
        "    'file_path', 'frames', 'duration',\n",
        "    'label'\n",
        "])\n",
        "\n",
        "for file_path in file_paths:\n",
        "    label = file_path.split('/')[3]\n",
        "    \n",
        "    cap = cv2.VideoCapture(file_path)\n",
        "    frames = int(cap.get(cv2.CAP_PROP_FRAME_COUNT))\n",
        "    duration = frames / 29.97\n",
        "    elem = {\n",
        "        'file_path': file_path,\n",
        "        'frames': frames,\n",
        "        'duration': duration,\n",
        "        'label': label\n",
        "    }\n",
        "    df.loc[len(df)] = elem\n",
        "    cap.release()"
      ]
    },
    {
      "cell_type": "code",
      "execution_count": null,
      "metadata": {
        "id": "de0f89bf"
      },
      "outputs": [],
      "source": [
        "df"
      ]
    },
    {
      "cell_type": "code",
      "execution_count": null,
      "metadata": {
        "id": "264946c0"
      },
      "outputs": [],
      "source": [
        "df_duration_sum_by_label = df.groupby('label').duration.sum().rename('Sum').\\\n",
        "    reset_index().set_index('label')\n",
        "\n",
        "df_duration_sum_by_label"
      ]
    },
    {
      "cell_type": "code",
      "execution_count": null,
      "metadata": {
        "id": "bc8e7e37"
      },
      "outputs": [],
      "source": [
        "df_duration_avg_by_label = df.groupby('label').duration.mean().rename('Average').\\\n",
        "    reset_index().set_index('label')\n",
        "\n",
        "df_duration_avg_by_label"
      ]
    },
    {
      "cell_type": "code",
      "execution_count": null,
      "metadata": {
        "id": "cc1de799"
      },
      "outputs": [],
      "source": [
        "df_video_stats = pd.concat([df_duration_sum_by_label, df_duration_avg_by_label], axis=1)\n",
        "df_video_stats.plot.bar(secondary_y='Average')"
      ]
    },
    {
      "cell_type": "code",
      "execution_count": null,
      "metadata": {
        "id": "78308178"
      },
      "outputs": [],
      "source": [
        "df['> 10.0 Sec'] = df['duration'] >= 10.0\n",
        "df['5.0 - 10.0 Sec'] = (df['duration'] >= 5.0) & (df['duration'] < 10.0)\n",
        "df['2.0 - 5.0 Sec'] = (df['duration'] >= 2.0) & (df['duration'] < 5.0)\n",
        "df['0.0 - 2.0 Sec'] = (df['duration'] >= 0.0) & (df['duration'] < 2.0)\n",
        "df"
      ]
    },
    {
      "cell_type": "code",
      "execution_count": null,
      "metadata": {
        "id": "62fa158d"
      },
      "outputs": [],
      "source": [
        "df_groupby_label = df.groupby('label')\n",
        "df_groupby_stats = pd.concat([\n",
        "    df_groupby_label['0.0 - 2.0 Sec'].sum().reset_index().set_index('label'),\n",
        "    df_groupby_label['2.0 - 5.0 Sec'].sum().reset_index().set_index('label'),\n",
        "    df_groupby_label['5.0 - 10.0 Sec'].sum().reset_index().set_index('label'),\n",
        "    df_groupby_label['> 10.0 Sec'].sum().reset_index().set_index('label')\n",
        "], axis=1)\n",
        "\n",
        "df_groupby_stats"
      ]
    },
    {
      "cell_type": "code",
      "execution_count": null,
      "metadata": {
        "id": "ba221dd0"
      },
      "outputs": [],
      "source": [
        "df_groupby_stats.plot.bar(stacked=True, ylabel='Number of Videos')"
      ]
    },
    {
      "cell_type": "code",
      "execution_count": null,
      "metadata": {
        "id": "3d3cb088"
      },
      "outputs": [],
      "source": [
        "import random"
      ]
    },
    {
      "cell_type": "code",
      "execution_count": null,
      "metadata": {
        "id": "f62f8986"
      },
      "outputs": [],
      "source": [
        "label_dir = glob('drive/MyDrive/UCF11_updated_mpg/*')\n",
        "label_dir"
      ]
    },
    {
      "cell_type": "code",
      "execution_count": null,
      "metadata": {
        "id": "a00eb6b7"
      },
      "outputs": [],
      "source": [
        "# 11개의 클래스\n",
        "# 클래스당 25개의 영상 그룹\n",
        "# 1 ~ 20 : 학습 그룹\n",
        "# 20 ~ 25 : 테스트 그룹\n",
        "\n",
        "train_df = pd.DataFrame(\n",
        "    columns=['file_path', 'label']\n",
        ")\n",
        "\n",
        "valid_df = pd.DataFrame(\n",
        "    columns=['file_path', 'label']\n",
        ")\n",
        "\n",
        "label_dirs = glob('drive/MyDrive/UCF11_updated_mpg/*')\n",
        "for label_dir in label_dirs:\n",
        "    file_dirs = glob(\n",
        "        label_dir + '/v_*'\n",
        "    )\n",
        "    random.shuffle(file_dirs)\n",
        "    \n",
        "    for i in range(20):\n",
        "        train_dir = file_dirs[i]\n",
        "        label = train_dir.split('/')[-1].split('_')[1]\n",
        "        file_path = random.choice(\n",
        "            glob(train_dir + '/*')\n",
        "        )\n",
        "        train_df.loc[len(train_df)] = [file_path, label]\n",
        "        \n",
        "    for i in range(20, 25):\n",
        "        valid_dir = file_dirs[i]\n",
        "        label = valid_dir.split('/')[-1].split('_')[1]\n",
        "        file_path = random.choice(\n",
        "            glob(train_dir + '/*')\n",
        "        )\n",
        "        valid_df.loc[len(valid_df)] = [file_path, label]"
      ]
    },
    {
      "cell_type": "code",
      "execution_count": null,
      "metadata": {
        "id": "a8a6377b"
      },
      "outputs": [],
      "source": [
        "print(len(train_df))\n",
        "print(len(valid_df))"
      ]
    },
    {
      "cell_type": "code",
      "execution_count": null,
      "metadata": {
        "scrolled": true,
        "id": "56f507b9"
      },
      "outputs": [],
      "source": [
        "train_df"
      ]
    },
    {
      "cell_type": "code",
      "execution_count": null,
      "metadata": {
        "id": "e9b7b57b"
      },
      "outputs": [],
      "source": [
        "import os\n",
        "\n",
        "os.mkdir('drive/MyDrive/UCF11_updated_png')\n",
        "os.mkdir('drive/MyDrive/UCF11_updated_png/train')\n",
        "os.mkdir('drive/MyDrive/UCF11_updated_png/valid')"
      ]
    },
    {
      "cell_type": "code",
      "execution_count": null,
      "metadata": {
        "id": "d4352851"
      },
      "outputs": [],
      "source": [
        "train_df.to_csv('drive/MyDrive/ucf11_train_vid.csv', index=False)\n",
        "valid_df.to_csv('drive/MyDrive/ucf11_valid_vid.csv', index=False)"
      ]
    },
    {
      "cell_type": "code",
      "execution_count": null,
      "metadata": {
        "id": "6016392c"
      },
      "outputs": [],
      "source": [
        "max_frame = 10\n",
        "SAVE_DIR = 'drive/MyDrive/UCF11_updated_png/'\n",
        "\n",
        "for i, elem in train_df.iterrows():\n",
        "    cap = cv2.VideoCapture(\n",
        "    elem['file_path']\n",
        "    )\n",
        "    \n",
        "    frames = []\n",
        "    while True:\n",
        "        ret, frame = cap.read()\n",
        "        if not ret:\n",
        "            break\n",
        "            \n",
        "        frame = cv2.resize(frame, (256, 256))\n",
        "        frames.append(frame)\n",
        "        \n",
        "        if len(frames) == max_frame:\n",
        "            break\n",
        "    \n",
        "    label = elem['label']\n",
        "    for j, frame in enumerate(frames):\n",
        "        file_name = f'train/{label}_{i}_{j}.png'\n",
        "        cv2.imwrite(SAVE_DIR + file_name, frame)\n",
        "    \n",
        "    cap.release()"
      ]
    },
    {
      "cell_type": "code",
      "execution_count": null,
      "metadata": {
        "id": "f234564f"
      },
      "outputs": [],
      "source": [
        "print(len(glob(SAVE_DIR + 'train/*')))"
      ]
    },
    {
      "cell_type": "code",
      "execution_count": null,
      "metadata": {
        "id": "1a7e1dc2"
      },
      "outputs": [],
      "source": [
        "max_frame = 10\n",
        "SAVE_DIR = 'drive/MyDrive/UCF11_updated_png/'\n",
        "\n",
        "for i, elem in valid_df.iterrows():\n",
        "    cap = cv2.VideoCapture(\n",
        "    elem['file_path']\n",
        "    )\n",
        "    \n",
        "    frames = []\n",
        "    while True:\n",
        "        ret, frame = cap.read()\n",
        "        if not ret:\n",
        "            break\n",
        "            \n",
        "        frame = cv2.resize(frame, (256, 256))\n",
        "        frames.append(frame)\n",
        "        \n",
        "        if len(frames) == max_frame:\n",
        "            break\n",
        "    \n",
        "    label = elem['label']\n",
        "    for j, frame in enumerate(frames):\n",
        "        file_name = f'valid/{label}_{i}_{j}.png'\n",
        "        cv2.imwrite(SAVE_DIR + file_name, frame)\n",
        "    \n",
        "    cap.release()"
      ]
    },
    {
      "cell_type": "code",
      "execution_count": null,
      "metadata": {
        "id": "2e3973c1"
      },
      "outputs": [],
      "source": [
        "print(len(glob(SAVE_DIR + 'valid/*')))"
      ]
    },
    {
      "cell_type": "code",
      "source": [
        ""
      ],
      "metadata": {
        "id": "bwcMrslbCONk"
      },
      "execution_count": null,
      "outputs": []
    }
  ]
}