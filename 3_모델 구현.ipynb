{
 "cells": [
  {
   "cell_type": "code",
   "execution_count": 2,
   "id": "ba39f44a",
   "metadata": {},
   "outputs": [],
   "source": [
    "'''\n",
    "# https://www.tensorflow.org/guide/keras/sequential_model\n",
    "# Sequential 모델은 다음의 경우에 적합하지 않습니다.\n",
    "# 모델에 다중 입력 또는 다중 출력이 있습니다\n",
    "# 레이어에 다중 입력 또는 다중 출력이 있습니다\n",
    "# 레이어 공유를 해야 합니다\n",
    "# 비선형 토폴로지를 원합니다(예: 잔류 연결, 다중 분기 모델)\n",
    "\n",
    "# Define Sequential model with 3 layers\n",
    "model = keras.Sequential(\n",
    "    [\n",
    "        layers.Dense(2, activation=\"relu\", name=\"layer1\"),\n",
    "        layers.Dense(3, activation=\"relu\", name=\"layer2\"),\n",
    "        layers.Dense(4, name=\"layer3\"),\n",
    "    ]\n",
    ")\n",
    "# Call model on a test input\n",
    "x = tf.ones((3, 3))\n",
    "y = model(x)\n",
    "'''\n",
    "pass"
   ]
  },
  {
   "cell_type": "code",
   "execution_count": 5,
   "id": "44a03806",
   "metadata": {},
   "outputs": [],
   "source": [
    "from tensorflow import keras\n",
    "from tensorflow.keras import layers\n",
    "from tensorflow.keras import activations\n",
    "\n",
    "import os \n",
    "os.environ['CUDA-VISIBLE_DEVICES'] = '1'"
   ]
  },
  {
   "cell_type": "markdown",
   "id": "12741bfd",
   "metadata": {},
   "source": [
    "* CNN\n",
    "1. CNN은 전통적인 뉴럴 네트워크 앞에 여러 계층의 컨볼루셔널 계층을 붙인 모양\n",
    "2. 컨볼루셔널 계층을 통해서 입력 받은 이미지에 대한 특징(Feature)를 추출하게 되고, 추출한 특징을 기반으로 기존의 뉴럴 네트워크를 이용하여 분류\n",
    "\n",
    "* 컨볼루셔널 레이어(Convolutional Layer)\n",
    "1. 입력데이터로부터 특징을 추출하는 역할\n",
    "2. 특징을 추출하는 필터(Filter)\n",
    "3. 필터의 값을 비선형 값으로 바꿔주는 Activation 함수로 이뤄져 있음\n",
    "\n",
    "* 필터(Filter)\n",
    "1. 특징이 데이터에 있는지 없는지 검출하는 함수\n",
    "2. 필터는 구현에서 행렬로 정의\n",
    "3. 입력받은 이미지 모두 행렬로 변환\n",
    "4. 입력받은 데이터에서 그 특징을 가지고 있으면 결과 값이 큰값, 특성을 가지고 있지않으면 0에 가까운 값이 반환\n",
    "\n",
    "* strides\n",
    "1. 필터를 적용하는 간격(예. 우측으로 한칸씩 아래로 한칸씩 적용)값\n",
    "2. 필터를 적용해서 얻어낸 결과 Feature map 또는 activation map\n",
    "\n",
    "* padding\n",
    "1. CNN 네트워크 특징 중 여러단계에 걸쳐서 계속 필터를 연속적으로 적용하는데 필터 적용 후 결과 값이 작아지게 되면 처음에 비해 특징이 많이 유실될 수 있음\n",
    "2. 충분히 특징이 추출되기 전에 결과 값이 작아지면 특징이 유실되므로 이를 방지하기 위해 사용하는 기법\n",
    "3. 입력값 주위로 0값을 넣어서 입력 값의 크기를 인위적으로 키워 결과값이 작아지는 것을 방지"
   ]
  },
  {
   "cell_type": "code",
   "execution_count": null,
   "id": "a1658b6c",
   "metadata": {},
   "outputs": [],
   "source": [
    "def get_sequential_model(input_shape):\n",
    "    model = keras.Sequential(\n",
    "       [\n",
    "           # input\n",
    "           layers.Input(input_shape),\n",
    "           \n",
    "           # 1st\n",
    "           layers.Conv2D(64, 3, strides=1, activation='relu', padding='same'),\n",
    "           layers.Conv2D(64, 3, strides=1, activation='relu', padding='same'),\n",
    "           layers.MaxPool2D(),\n",
    "           layers.BatchNormalization(),\n",
    "           layers.Dropout(0.5),\n",
    "           \n",
    "           # 2nd\n",
    "           layers.Conv2D(128, 3, strides=1, activation='relu', padding='same'),\n",
    "           layers.Conv2D(128, 3, strides=1, activation='relu', padding='same'),\n",
    "           layers.MaxPool2D(),\n",
    "           layers.BatchNormalization(),\n",
    "           layers.Dropout(0.3),\n",
    "           \n",
    "           # Classifier\n",
    "           layers.GlobalMaxPool2D(),\n",
    "           layers.Dense(128, activation='relu'),\n",
    "           layers.Dense(1, activation='sigmoid')\n",
    "        ]\n",
    "    )\n",
    "    \n",
    "    return model"
   ]
  }
 ],
 "metadata": {
  "kernelspec": {
   "display_name": "Python 3",
   "language": "python",
   "name": "python3"
  },
  "language_info": {
   "codemirror_mode": {
    "name": "ipython",
    "version": 3
   },
   "file_extension": ".py",
   "mimetype": "text/x-python",
   "name": "python",
   "nbconvert_exporter": "python",
   "pygments_lexer": "ipython3",
   "version": "3.6.8"
  }
 },
 "nbformat": 4,
 "nbformat_minor": 5
}
