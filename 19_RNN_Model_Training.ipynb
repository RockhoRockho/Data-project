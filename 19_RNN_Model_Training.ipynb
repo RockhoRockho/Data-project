{
  "nbformat": 4,
  "nbformat_minor": 0,
  "metadata": {
    "colab": {
      "name": "19_RNN Model Training.ipynb",
      "provenance": [],
      "machine_shape": "hm",
      "authorship_tag": "ABX9TyNGjBE+xLnB8ZCmLAKkYKIA",
      "include_colab_link": true
    },
    "kernelspec": {
      "name": "python3",
      "display_name": "Python 3"
    },
    "language_info": {
      "name": "python"
    },
    "accelerator": "GPU"
  },
  "cells": [
    {
      "cell_type": "markdown",
      "metadata": {
        "id": "view-in-github",
        "colab_type": "text"
      },
      "source": [
        "<a href=\"https://colab.research.google.com/github/RockhoRockho/Data-project/blob/main/19_RNN_Model_Training.ipynb\" target=\"_parent\"><img src=\"https://colab.research.google.com/assets/colab-badge.svg\" alt=\"Open In Colab\"/></a>"
      ]
    },
    {
      "cell_type": "code",
      "execution_count": null,
      "metadata": {
        "colab": {
          "base_uri": "https://localhost:8080/"
        },
        "id": "1uoFhywM1ayo",
        "outputId": "299f12b3-6262-4c9a-9a80-5e670659ce43"
      },
      "outputs": [
        {
          "output_type": "stream",
          "name": "stdout",
          "text": [
            "Mounted at /content/drive\n"
          ]
        }
      ],
      "source": [
        "from google.colab import drive\n",
        "drive.mount('/content/drive')"
      ]
    },
    {
      "cell_type": "code",
      "source": [
        "import os\n",
        "import cv2\n",
        "import random\n",
        "import numpy as np\n",
        "import pandas as pd\n",
        "import matplotlib.pyplot as plt\n",
        "from pprint import pprint\n",
        "from glob import glob\n",
        "from tqdm import tqdm"
      ],
      "metadata": {
        "id": "rS4nnAL61hVN"
      },
      "execution_count": null,
      "outputs": []
    },
    {
      "cell_type": "code",
      "source": [
        "LABEL_INT_DICT = np.unique(pd.read_csv('drive/Mydrive/ucf11_train_vid.csv')['label'])\n",
        "LABEL_STR_DICT = {k:v for v, k in enumerate(LABEL_INT_DICT)}\n",
        "pprint(LABEL_INT_DICT)\n",
        "pprint(LABEL_STR_DICT)"
      ],
      "metadata": {
        "colab": {
          "base_uri": "https://localhost:8080/",
          "height": 433
        },
        "id": "Q1Q-gVJI1mfk",
        "outputId": "4fd9cf3b-f810-493e-f481-14c1d84689ba"
      },
      "execution_count": null,
      "outputs": [
        {
          "output_type": "error",
          "ename": "FileNotFoundError",
          "evalue": "ignored",
          "traceback": [
            "\u001b[0;31m---------------------------------------------------------------------------\u001b[0m",
            "\u001b[0;31mFileNotFoundError\u001b[0m                         Traceback (most recent call last)",
            "\u001b[0;32m<ipython-input-12-3add2e663009>\u001b[0m in \u001b[0;36m<module>\u001b[0;34m()\u001b[0m\n\u001b[0;32m----> 1\u001b[0;31m \u001b[0mLABEL_INT_DICT\u001b[0m \u001b[0;34m=\u001b[0m \u001b[0mnp\u001b[0m\u001b[0;34m.\u001b[0m\u001b[0munique\u001b[0m\u001b[0;34m(\u001b[0m\u001b[0mpd\u001b[0m\u001b[0;34m.\u001b[0m\u001b[0mread_csv\u001b[0m\u001b[0;34m(\u001b[0m\u001b[0;34m'drive/Mydrive/ucf11_train_vid.csv'\u001b[0m\u001b[0;34m)\u001b[0m\u001b[0;34m[\u001b[0m\u001b[0;34m'label'\u001b[0m\u001b[0;34m]\u001b[0m\u001b[0;34m)\u001b[0m\u001b[0;34m\u001b[0m\u001b[0;34m\u001b[0m\u001b[0m\n\u001b[0m\u001b[1;32m      2\u001b[0m \u001b[0mLABEL_STR_DICT\u001b[0m \u001b[0;34m=\u001b[0m \u001b[0;34m{\u001b[0m\u001b[0mk\u001b[0m\u001b[0;34m:\u001b[0m\u001b[0mv\u001b[0m \u001b[0;32mfor\u001b[0m \u001b[0mv\u001b[0m\u001b[0;34m,\u001b[0m \u001b[0mk\u001b[0m \u001b[0;32min\u001b[0m \u001b[0menumerate\u001b[0m\u001b[0;34m(\u001b[0m\u001b[0mLABEL_INT_DICT\u001b[0m\u001b[0;34m)\u001b[0m\u001b[0;34m}\u001b[0m\u001b[0;34m\u001b[0m\u001b[0;34m\u001b[0m\u001b[0m\n\u001b[1;32m      3\u001b[0m \u001b[0mpprint\u001b[0m\u001b[0;34m(\u001b[0m\u001b[0mLABEL_INT_DICT\u001b[0m\u001b[0;34m)\u001b[0m\u001b[0;34m\u001b[0m\u001b[0;34m\u001b[0m\u001b[0m\n\u001b[1;32m      4\u001b[0m \u001b[0mpprint\u001b[0m\u001b[0;34m(\u001b[0m\u001b[0mLABEL_STR_DICT\u001b[0m\u001b[0;34m)\u001b[0m\u001b[0;34m\u001b[0m\u001b[0;34m\u001b[0m\u001b[0m\n",
            "\u001b[0;32m/usr/local/lib/python3.7/dist-packages/pandas/io/parsers.py\u001b[0m in \u001b[0;36mread_csv\u001b[0;34m(filepath_or_buffer, sep, delimiter, header, names, index_col, usecols, squeeze, prefix, mangle_dupe_cols, dtype, engine, converters, true_values, false_values, skipinitialspace, skiprows, skipfooter, nrows, na_values, keep_default_na, na_filter, verbose, skip_blank_lines, parse_dates, infer_datetime_format, keep_date_col, date_parser, dayfirst, cache_dates, iterator, chunksize, compression, thousands, decimal, lineterminator, quotechar, quoting, doublequote, escapechar, comment, encoding, dialect, error_bad_lines, warn_bad_lines, delim_whitespace, low_memory, memory_map, float_precision)\u001b[0m\n\u001b[1;32m    686\u001b[0m     )\n\u001b[1;32m    687\u001b[0m \u001b[0;34m\u001b[0m\u001b[0m\n\u001b[0;32m--> 688\u001b[0;31m     \u001b[0;32mreturn\u001b[0m \u001b[0m_read\u001b[0m\u001b[0;34m(\u001b[0m\u001b[0mfilepath_or_buffer\u001b[0m\u001b[0;34m,\u001b[0m \u001b[0mkwds\u001b[0m\u001b[0;34m)\u001b[0m\u001b[0;34m\u001b[0m\u001b[0;34m\u001b[0m\u001b[0m\n\u001b[0m\u001b[1;32m    689\u001b[0m \u001b[0;34m\u001b[0m\u001b[0m\n\u001b[1;32m    690\u001b[0m \u001b[0;34m\u001b[0m\u001b[0m\n",
            "\u001b[0;32m/usr/local/lib/python3.7/dist-packages/pandas/io/parsers.py\u001b[0m in \u001b[0;36m_read\u001b[0;34m(filepath_or_buffer, kwds)\u001b[0m\n\u001b[1;32m    452\u001b[0m \u001b[0;34m\u001b[0m\u001b[0m\n\u001b[1;32m    453\u001b[0m     \u001b[0;31m# Create the parser.\u001b[0m\u001b[0;34m\u001b[0m\u001b[0;34m\u001b[0m\u001b[0;34m\u001b[0m\u001b[0m\n\u001b[0;32m--> 454\u001b[0;31m     \u001b[0mparser\u001b[0m \u001b[0;34m=\u001b[0m \u001b[0mTextFileReader\u001b[0m\u001b[0;34m(\u001b[0m\u001b[0mfp_or_buf\u001b[0m\u001b[0;34m,\u001b[0m \u001b[0;34m**\u001b[0m\u001b[0mkwds\u001b[0m\u001b[0;34m)\u001b[0m\u001b[0;34m\u001b[0m\u001b[0;34m\u001b[0m\u001b[0m\n\u001b[0m\u001b[1;32m    455\u001b[0m \u001b[0;34m\u001b[0m\u001b[0m\n\u001b[1;32m    456\u001b[0m     \u001b[0;32mif\u001b[0m \u001b[0mchunksize\u001b[0m \u001b[0;32mor\u001b[0m \u001b[0miterator\u001b[0m\u001b[0;34m:\u001b[0m\u001b[0;34m\u001b[0m\u001b[0;34m\u001b[0m\u001b[0m\n",
            "\u001b[0;32m/usr/local/lib/python3.7/dist-packages/pandas/io/parsers.py\u001b[0m in \u001b[0;36m__init__\u001b[0;34m(self, f, engine, **kwds)\u001b[0m\n\u001b[1;32m    946\u001b[0m             \u001b[0mself\u001b[0m\u001b[0;34m.\u001b[0m\u001b[0moptions\u001b[0m\u001b[0;34m[\u001b[0m\u001b[0;34m\"has_index_names\"\u001b[0m\u001b[0;34m]\u001b[0m \u001b[0;34m=\u001b[0m \u001b[0mkwds\u001b[0m\u001b[0;34m[\u001b[0m\u001b[0;34m\"has_index_names\"\u001b[0m\u001b[0;34m]\u001b[0m\u001b[0;34m\u001b[0m\u001b[0;34m\u001b[0m\u001b[0m\n\u001b[1;32m    947\u001b[0m \u001b[0;34m\u001b[0m\u001b[0m\n\u001b[0;32m--> 948\u001b[0;31m         \u001b[0mself\u001b[0m\u001b[0;34m.\u001b[0m\u001b[0m_make_engine\u001b[0m\u001b[0;34m(\u001b[0m\u001b[0mself\u001b[0m\u001b[0;34m.\u001b[0m\u001b[0mengine\u001b[0m\u001b[0;34m)\u001b[0m\u001b[0;34m\u001b[0m\u001b[0;34m\u001b[0m\u001b[0m\n\u001b[0m\u001b[1;32m    949\u001b[0m \u001b[0;34m\u001b[0m\u001b[0m\n\u001b[1;32m    950\u001b[0m     \u001b[0;32mdef\u001b[0m \u001b[0mclose\u001b[0m\u001b[0;34m(\u001b[0m\u001b[0mself\u001b[0m\u001b[0;34m)\u001b[0m\u001b[0;34m:\u001b[0m\u001b[0;34m\u001b[0m\u001b[0;34m\u001b[0m\u001b[0m\n",
            "\u001b[0;32m/usr/local/lib/python3.7/dist-packages/pandas/io/parsers.py\u001b[0m in \u001b[0;36m_make_engine\u001b[0;34m(self, engine)\u001b[0m\n\u001b[1;32m   1178\u001b[0m     \u001b[0;32mdef\u001b[0m \u001b[0m_make_engine\u001b[0m\u001b[0;34m(\u001b[0m\u001b[0mself\u001b[0m\u001b[0;34m,\u001b[0m \u001b[0mengine\u001b[0m\u001b[0;34m=\u001b[0m\u001b[0;34m\"c\"\u001b[0m\u001b[0;34m)\u001b[0m\u001b[0;34m:\u001b[0m\u001b[0;34m\u001b[0m\u001b[0;34m\u001b[0m\u001b[0m\n\u001b[1;32m   1179\u001b[0m         \u001b[0;32mif\u001b[0m \u001b[0mengine\u001b[0m \u001b[0;34m==\u001b[0m \u001b[0;34m\"c\"\u001b[0m\u001b[0;34m:\u001b[0m\u001b[0;34m\u001b[0m\u001b[0;34m\u001b[0m\u001b[0m\n\u001b[0;32m-> 1180\u001b[0;31m             \u001b[0mself\u001b[0m\u001b[0;34m.\u001b[0m\u001b[0m_engine\u001b[0m \u001b[0;34m=\u001b[0m \u001b[0mCParserWrapper\u001b[0m\u001b[0;34m(\u001b[0m\u001b[0mself\u001b[0m\u001b[0;34m.\u001b[0m\u001b[0mf\u001b[0m\u001b[0;34m,\u001b[0m \u001b[0;34m**\u001b[0m\u001b[0mself\u001b[0m\u001b[0;34m.\u001b[0m\u001b[0moptions\u001b[0m\u001b[0;34m)\u001b[0m\u001b[0;34m\u001b[0m\u001b[0;34m\u001b[0m\u001b[0m\n\u001b[0m\u001b[1;32m   1181\u001b[0m         \u001b[0;32melse\u001b[0m\u001b[0;34m:\u001b[0m\u001b[0;34m\u001b[0m\u001b[0;34m\u001b[0m\u001b[0m\n\u001b[1;32m   1182\u001b[0m             \u001b[0;32mif\u001b[0m \u001b[0mengine\u001b[0m \u001b[0;34m==\u001b[0m \u001b[0;34m\"python\"\u001b[0m\u001b[0;34m:\u001b[0m\u001b[0;34m\u001b[0m\u001b[0;34m\u001b[0m\u001b[0m\n",
            "\u001b[0;32m/usr/local/lib/python3.7/dist-packages/pandas/io/parsers.py\u001b[0m in \u001b[0;36m__init__\u001b[0;34m(self, src, **kwds)\u001b[0m\n\u001b[1;32m   2008\u001b[0m         \u001b[0mkwds\u001b[0m\u001b[0;34m[\u001b[0m\u001b[0;34m\"usecols\"\u001b[0m\u001b[0;34m]\u001b[0m \u001b[0;34m=\u001b[0m \u001b[0mself\u001b[0m\u001b[0;34m.\u001b[0m\u001b[0musecols\u001b[0m\u001b[0;34m\u001b[0m\u001b[0;34m\u001b[0m\u001b[0m\n\u001b[1;32m   2009\u001b[0m \u001b[0;34m\u001b[0m\u001b[0m\n\u001b[0;32m-> 2010\u001b[0;31m         \u001b[0mself\u001b[0m\u001b[0;34m.\u001b[0m\u001b[0m_reader\u001b[0m \u001b[0;34m=\u001b[0m \u001b[0mparsers\u001b[0m\u001b[0;34m.\u001b[0m\u001b[0mTextReader\u001b[0m\u001b[0;34m(\u001b[0m\u001b[0msrc\u001b[0m\u001b[0;34m,\u001b[0m \u001b[0;34m**\u001b[0m\u001b[0mkwds\u001b[0m\u001b[0;34m)\u001b[0m\u001b[0;34m\u001b[0m\u001b[0;34m\u001b[0m\u001b[0m\n\u001b[0m\u001b[1;32m   2011\u001b[0m         \u001b[0mself\u001b[0m\u001b[0;34m.\u001b[0m\u001b[0munnamed_cols\u001b[0m \u001b[0;34m=\u001b[0m \u001b[0mself\u001b[0m\u001b[0;34m.\u001b[0m\u001b[0m_reader\u001b[0m\u001b[0;34m.\u001b[0m\u001b[0munnamed_cols\u001b[0m\u001b[0;34m\u001b[0m\u001b[0;34m\u001b[0m\u001b[0m\n\u001b[1;32m   2012\u001b[0m \u001b[0;34m\u001b[0m\u001b[0m\n",
            "\u001b[0;32mpandas/_libs/parsers.pyx\u001b[0m in \u001b[0;36mpandas._libs.parsers.TextReader.__cinit__\u001b[0;34m()\u001b[0m\n",
            "\u001b[0;32mpandas/_libs/parsers.pyx\u001b[0m in \u001b[0;36mpandas._libs.parsers.TextReader._setup_parser_source\u001b[0;34m()\u001b[0m\n",
            "\u001b[0;31mFileNotFoundError\u001b[0m: [Errno 2] No such file or directory: 'drive/Mydrive/ucf11_train_vid.csv'"
          ]
        }
      ]
    },
    {
      "cell_type": "code",
      "source": [
        "import tensorflow_hub as hub\n",
        "import tensorflow as tf\n",
        "from tensorflow import keras\n",
        "os.environ['CUDA_VISIBLE_DEVICES'] = '1'\n",
        "\n",
        "MAX_FRAMES = 10\n",
        "NUM_FEATURES = 1280\n",
        "\n",
        "def build_model():\n",
        "  inputs = keras.Input((MAX_FRAMES, NUM_FEATURES))\n",
        "  x = keras.layers.LSTM(64, return_sequences=True)( # 받은 데이터를 그대로 넘기는 것(input 유지)\n",
        "      inputs\n",
        "  )\n",
        "  x = keras.layers.LSTM(64, return_sequences=False)(\n",
        "      x\n",
        "  )\n",
        "  x = keras.layers.Dropout(0.3)(x)\n",
        "  outputs = keras.layers.Dense(len(LABEL_INT_DICT), activation='softmax')(x)\n",
        "  model = keras.Model(inputs, outputs)\n",
        "  return model\n",
        "\n",
        "adam = keras.optimizers.Adam(lr=0.0001)\n",
        "model = build_model()\n",
        "\n",
        "model.compile(\n",
        "    optimizer=adam,\n",
        "    loss = 'sparse_categorical_crossentropy',\n",
        "    metrics = 'accuracy'\n",
        ")\n",
        "\n",
        "model.summary()"
      ],
      "metadata": {
        "colab": {
          "base_uri": "https://localhost:8080/"
        },
        "id": "x6WyCx2f1oAk",
        "outputId": "e99c3084-eec8-4517-db91-3d6705de8d71"
      },
      "execution_count": null,
      "outputs": [
        {
          "output_type": "stream",
          "name": "stderr",
          "text": [
            "/usr/local/lib/python3.7/dist-packages/keras/optimizer_v2/adam.py:105: UserWarning: The `lr` argument is deprecated, use `learning_rate` instead.\n",
            "  super(Adam, self).__init__(name, **kwargs)\n"
          ]
        },
        {
          "output_type": "stream",
          "name": "stdout",
          "text": [
            "Model: \"model_1\"\n",
            "_________________________________________________________________\n",
            " Layer (type)                Output Shape              Param #   \n",
            "=================================================================\n",
            " input_2 (InputLayer)        [(None, 10, 1280)]        0         \n",
            "                                                                 \n",
            " lstm_2 (LSTM)               (None, 10, 64)            344320    \n",
            "                                                                 \n",
            " lstm_3 (LSTM)               (None, 64)                33024     \n",
            "                                                                 \n",
            " dropout_1 (Dropout)         (None, 64)                0         \n",
            "                                                                 \n",
            " dense_1 (Dense)             (None, 11)                715       \n",
            "                                                                 \n",
            "=================================================================\n",
            "Total params: 378,059\n",
            "Trainable params: 378,059\n",
            "Non-trainable params: 0\n",
            "_________________________________________________________________\n"
          ]
        }
      ]
    },
    {
      "cell_type": "code",
      "source": [
        "import albumentations as A\n",
        "import cv2\n",
        "import math\n",
        "import tensorflow as tf\n",
        "from tensorflow import keras\n",
        "\n",
        "class DataGenerator(keras.utils.Sequence):\n",
        "    def __init__(self, batch_size,\n",
        "        mode='train', shuffle=True):\n",
        "        assert mode in ['train', 'valid']\n",
        "        self.mode = mode\n",
        "        self.shuffle = shuffle\n",
        "        self.batch_size = batch_size\n",
        "        self.npy_paths = glob(\n",
        "            f'drive/MyDrive/UCF11_updated_npy/{mode}/*.npy'\n",
        "        )\n",
        "    \n",
        "    def __len__(self):\n",
        "        return math.ceil(len(self.npy_paths) / self.batch_size)\n",
        "    \n",
        "    def __getitem__(self, idx):\n",
        "        strt = idx * self.batch_size\n",
        "        fin = (idx + 1) * self.batch_size\n",
        "        data = self.npy_paths[strt:fin]\n",
        "    \n",
        "        batch_x, batch_y = self.get_data(data)\n",
        "        return np.array(batch_x), np.array(batch_y)\n",
        "    \n",
        "    def get_data(self, data):\n",
        "        batch_x = []\n",
        "        batch_y = []\n",
        "        \n",
        "        for npy_path in data:\n",
        "            npy = np.load(npy_path)\n",
        "            \n",
        "            label = npy_path.split('/')[-1].split('_')[0]\n",
        "            label = LABEL_STR_DICT[label]\n",
        "            \n",
        "            batch_x.append(npy)\n",
        "            batch_y.append(label)\n",
        "            \n",
        "        return batch_x, batch_y\n",
        "\n",
        "    def on_epoch_end(self):\n",
        "        if self.shuffle:\n",
        "            random.shuffle(self.npy_paths)\n",
        "    \n",
        "train_generator = DataGenerator(\n",
        "    mode='train',\n",
        "    batch_size=128,\n",
        "    shuffle=True)\n",
        "\n",
        "valid_generator = DataGenerator(\n",
        "    mode='valid',\n",
        "    batch_size=128,\n",
        "    shuffle=True)"
      ],
      "metadata": {
        "id": "_ijMW7u224zd"
      },
      "execution_count": null,
      "outputs": []
    },
    {
      "cell_type": "code",
      "source": [
        "for x, y in train_generator:\n",
        "  print(x.shape)\n",
        "  print(y.shape)\n",
        "  break"
      ],
      "metadata": {
        "colab": {
          "base_uri": "https://localhost:8080/"
        },
        "id": "AxqhbNF45AbO",
        "outputId": "68141f62-72a8-4a3a-9f3c-c4383fe985b3"
      },
      "execution_count": null,
      "outputs": [
        {
          "output_type": "stream",
          "name": "stdout",
          "text": [
            "(128, 10, 1280)\n",
            "(128,)\n"
          ]
        }
      ]
    },
    {
      "cell_type": "code",
      "source": [
        "history = model.fit(\n",
        "    train_generator,\n",
        "    validation_data=valid_generator,\n",
        "    epochs=30,\n",
        "    verbose=1\n",
        ")"
      ],
      "metadata": {
        "colab": {
          "base_uri": "https://localhost:8080/"
        },
        "id": "1eAstHBv6OxB",
        "outputId": "2ac7cfc4-94f4-426b-8a85-940052e482ca"
      },
      "execution_count": null,
      "outputs": [
        {
          "output_type": "stream",
          "name": "stdout",
          "text": [
            "Epoch 1/30\n",
            "2/2 [==============================] - 18s 14s/step - loss: 2.3855 - accuracy: 0.1000 - val_loss: 2.2874 - val_accuracy: 0.3273\n",
            "Epoch 2/30\n",
            "2/2 [==============================] - 0s 261ms/step - loss: 2.3313 - accuracy: 0.1500 - val_loss: 2.2493 - val_accuracy: 0.3636\n",
            "Epoch 3/30\n",
            "2/2 [==============================] - 0s 218ms/step - loss: 2.2829 - accuracy: 0.2091 - val_loss: 2.2103 - val_accuracy: 0.4364\n",
            "Epoch 4/30\n",
            "2/2 [==============================] - 0s 223ms/step - loss: 2.2441 - accuracy: 0.2773 - val_loss: 2.1720 - val_accuracy: 0.4364\n",
            "Epoch 5/30\n",
            "2/2 [==============================] - 0s 291ms/step - loss: 2.2054 - accuracy: 0.3455 - val_loss: 2.1341 - val_accuracy: 0.4909\n",
            "Epoch 6/30\n",
            "2/2 [==============================] - 0s 265ms/step - loss: 2.1504 - accuracy: 0.4364 - val_loss: 2.0962 - val_accuracy: 0.5273\n",
            "Epoch 7/30\n",
            "2/2 [==============================] - 0s 230ms/step - loss: 2.1140 - accuracy: 0.4864 - val_loss: 2.0587 - val_accuracy: 0.5636\n",
            "Epoch 8/30\n",
            "2/2 [==============================] - 0s 215ms/step - loss: 2.0696 - accuracy: 0.5273 - val_loss: 2.0217 - val_accuracy: 0.6364\n",
            "Epoch 9/30\n",
            "2/2 [==============================] - 0s 221ms/step - loss: 2.0057 - accuracy: 0.6500 - val_loss: 1.9850 - val_accuracy: 0.6545\n",
            "Epoch 10/30\n",
            "2/2 [==============================] - 0s 266ms/step - loss: 1.9919 - accuracy: 0.6273 - val_loss: 1.9482 - val_accuracy: 0.6727\n",
            "Epoch 11/30\n",
            "2/2 [==============================] - 0s 261ms/step - loss: 1.9484 - accuracy: 0.6955 - val_loss: 1.9116 - val_accuracy: 0.7273\n",
            "Epoch 12/30\n",
            "2/2 [==============================] - 0s 267ms/step - loss: 1.9033 - accuracy: 0.7273 - val_loss: 1.8752 - val_accuracy: 0.8000\n",
            "Epoch 13/30\n",
            "2/2 [==============================] - 0s 275ms/step - loss: 1.8811 - accuracy: 0.7455 - val_loss: 1.8394 - val_accuracy: 0.8000\n",
            "Epoch 14/30\n",
            "2/2 [==============================] - 0s 208ms/step - loss: 1.8274 - accuracy: 0.7727 - val_loss: 1.8039 - val_accuracy: 0.8000\n",
            "Epoch 15/30\n",
            "2/2 [==============================] - 0s 211ms/step - loss: 1.7959 - accuracy: 0.8000 - val_loss: 1.7684 - val_accuracy: 0.8182\n",
            "Epoch 16/30\n",
            "2/2 [==============================] - 0s 272ms/step - loss: 1.7360 - accuracy: 0.8364 - val_loss: 1.7333 - val_accuracy: 0.8182\n",
            "Epoch 17/30\n",
            "2/2 [==============================] - 0s 215ms/step - loss: 1.7256 - accuracy: 0.8136 - val_loss: 1.6983 - val_accuracy: 0.8182\n",
            "Epoch 18/30\n",
            "2/2 [==============================] - 0s 269ms/step - loss: 1.6616 - accuracy: 0.8636 - val_loss: 1.6633 - val_accuracy: 0.8182\n",
            "Epoch 19/30\n",
            "2/2 [==============================] - 0s 252ms/step - loss: 1.6169 - accuracy: 0.8909 - val_loss: 1.6286 - val_accuracy: 0.8182\n",
            "Epoch 20/30\n",
            "2/2 [==============================] - 0s 223ms/step - loss: 1.5711 - accuracy: 0.8727 - val_loss: 1.5939 - val_accuracy: 0.8182\n",
            "Epoch 21/30\n",
            "2/2 [==============================] - 0s 213ms/step - loss: 1.5463 - accuracy: 0.8727 - val_loss: 1.5593 - val_accuracy: 0.8182\n",
            "Epoch 22/30\n",
            "2/2 [==============================] - 0s 269ms/step - loss: 1.5365 - accuracy: 0.8864 - val_loss: 1.5247 - val_accuracy: 0.8182\n",
            "Epoch 23/30\n",
            "2/2 [==============================] - 0s 288ms/step - loss: 1.4768 - accuracy: 0.9136 - val_loss: 1.4909 - val_accuracy: 0.8364\n",
            "Epoch 24/30\n",
            "2/2 [==============================] - 0s 279ms/step - loss: 1.4319 - accuracy: 0.9045 - val_loss: 1.4570 - val_accuracy: 0.8545\n",
            "Epoch 25/30\n",
            "2/2 [==============================] - 0s 218ms/step - loss: 1.4081 - accuracy: 0.9136 - val_loss: 1.4237 - val_accuracy: 0.8545\n",
            "Epoch 26/30\n",
            "2/2 [==============================] - 0s 202ms/step - loss: 1.3642 - accuracy: 0.9182 - val_loss: 1.3914 - val_accuracy: 0.8545\n",
            "Epoch 27/30\n",
            "2/2 [==============================] - 0s 260ms/step - loss: 1.3580 - accuracy: 0.9000 - val_loss: 1.3592 - val_accuracy: 0.8545\n",
            "Epoch 28/30\n",
            "2/2 [==============================] - 0s 270ms/step - loss: 1.2984 - accuracy: 0.9227 - val_loss: 1.3279 - val_accuracy: 0.8545\n",
            "Epoch 29/30\n",
            "2/2 [==============================] - 0s 271ms/step - loss: 1.2698 - accuracy: 0.9318 - val_loss: 1.2974 - val_accuracy: 0.8364\n",
            "Epoch 30/30\n",
            "2/2 [==============================] - 0s 216ms/step - loss: 1.2374 - accuracy: 0.9227 - val_loss: 1.2675 - val_accuracy: 0.8364\n"
          ]
        }
      ]
    },
    {
      "cell_type": "code",
      "source": [
        "import matplotlib.pyplot as plt\n",
        "history = history.history\n",
        "\n",
        "plt.figure(figsize=(15, 5))\n",
        "plt.subplot(1, 2, 1)\n",
        "plt.plot(history['loss'], label='train')\n",
        "plt.plot(history['val_loss'], label='val')\n",
        "plt.legend()\n",
        "plt.xlabel('epoch')\n",
        "plt.ylabel('loss')\n",
        "plt.title(\"Loss\")\n",
        "\n",
        "plt.subplot(1, 2, 2)\n",
        "plt.plot(history['accuracy'], label='train')\n",
        "plt.plot(history['val_accuracy'], label='val')\n",
        "plt.legend()\n",
        "plt.xlabel('epoch')\n",
        "plt.ylabel('accuracy')\n",
        "plt.title(\"Accuracy\")\n",
        "plt.show()"
      ],
      "metadata": {
        "colab": {
          "base_uri": "https://localhost:8080/",
          "height": 236
        },
        "id": "7x7A2xnp6SpQ",
        "outputId": "f3cdec80-64d5-4d95-95b6-f9d52dc2d641"
      },
      "execution_count": null,
      "outputs": [
        {
          "output_type": "error",
          "ename": "AttributeError",
          "evalue": "ignored",
          "traceback": [
            "\u001b[0;31m---------------------------------------------------------------------------\u001b[0m",
            "\u001b[0;31mAttributeError\u001b[0m                            Traceback (most recent call last)",
            "\u001b[0;32m<ipython-input-20-63fca5d6dff6>\u001b[0m in \u001b[0;36m<module>\u001b[0;34m()\u001b[0m\n\u001b[1;32m      1\u001b[0m \u001b[0;32mimport\u001b[0m \u001b[0mmatplotlib\u001b[0m\u001b[0;34m.\u001b[0m\u001b[0mpyplot\u001b[0m \u001b[0;32mas\u001b[0m \u001b[0mplt\u001b[0m\u001b[0;34m\u001b[0m\u001b[0;34m\u001b[0m\u001b[0m\n\u001b[0;32m----> 2\u001b[0;31m \u001b[0mhistory\u001b[0m \u001b[0;34m=\u001b[0m \u001b[0mhistory\u001b[0m\u001b[0;34m.\u001b[0m\u001b[0mhistory\u001b[0m\u001b[0;34m\u001b[0m\u001b[0;34m\u001b[0m\u001b[0m\n\u001b[0m\u001b[1;32m      3\u001b[0m \u001b[0;34m\u001b[0m\u001b[0m\n\u001b[1;32m      4\u001b[0m \u001b[0mplt\u001b[0m\u001b[0;34m.\u001b[0m\u001b[0mfigure\u001b[0m\u001b[0;34m(\u001b[0m\u001b[0mfigsize\u001b[0m\u001b[0;34m=\u001b[0m\u001b[0;34m(\u001b[0m\u001b[0;36m15\u001b[0m\u001b[0;34m,\u001b[0m \u001b[0;36m5\u001b[0m\u001b[0;34m)\u001b[0m\u001b[0;34m)\u001b[0m\u001b[0;34m\u001b[0m\u001b[0;34m\u001b[0m\u001b[0m\n\u001b[1;32m      5\u001b[0m \u001b[0mplt\u001b[0m\u001b[0;34m.\u001b[0m\u001b[0msubplot\u001b[0m\u001b[0;34m(\u001b[0m\u001b[0;36m1\u001b[0m\u001b[0;34m,\u001b[0m \u001b[0;36m2\u001b[0m\u001b[0;34m,\u001b[0m \u001b[0;36m1\u001b[0m\u001b[0;34m)\u001b[0m\u001b[0;34m\u001b[0m\u001b[0;34m\u001b[0m\u001b[0m\n",
            "\u001b[0;31mAttributeError\u001b[0m: 'dict' object has no attribute 'history'"
          ]
        }
      ]
    },
    {
      "cell_type": "code",
      "source": [
        ""
      ],
      "metadata": {
        "id": "lxQNzGP97zSe"
      },
      "execution_count": null,
      "outputs": []
    }
  ]
}