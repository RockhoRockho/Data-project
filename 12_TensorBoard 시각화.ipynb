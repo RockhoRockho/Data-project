{
 "cells": [
  {
   "cell_type": "code",
   "execution_count": 10,
   "id": "fa10adc8",
   "metadata": {},
   "outputs": [
    {
     "name": "stdout",
     "output_type": "stream",
     "text": [
      "['f', 'r', 'a', 'n', 'c', 'e']\n"
     ]
    },
    {
     "data": {
      "text/plain": [
       "'FRAN-+_+_E'"
      ]
     },
     "execution_count": 10,
     "metadata": {},
     "output_type": "execute_result"
    }
   ],
   "source": [
    "a = 'France'\n",
    "print(list(a.lower()))\n",
    "b = 'Fran-+_+_e'\n"
   ]
  },
  {
   "cell_type": "code",
   "execution_count": null,
   "id": "05848435",
   "metadata": {},
   "outputs": [],
   "source": [
    "# 텐서보드 시각화\n",
    "from tensorflow.keras.callbacks import Callback\n",
    "\n",
    "class TrainHistory(Callback):\n",
    "    def __init__(self, data=None, log_dir='weights'):\n",
    "        self.img,\n",
    "        self.mask = data,\n",
    "        self.writer = tf.summary.create_file_write(log_dir)\n",
    "    \n",
    "    def on_epoch_end(self, epoch, logs=None):\n",
    "        preds = self.model.predict(self.img)\n",
    "        figure = image_grid(self.img, self.mask, pred)\n",
    "        with self.writer.as_default():\n",
    "            tf.summary.image('plot', plot_to_image(figure), epoch)"
   ]
  },
  {
   "cell_type": "code",
   "execution_count": 1,
   "id": "f1006e06",
   "metadata": {},
   "outputs": [],
   "source": [
    "def image_grid(img, mask, preds):\n",
    "    figure = plt.figure(figsize=(10, 10))\n",
    "    for i in range(3):\n",
    "        plt.subplot(3, 3, 3*i + 1)\n",
    "        plt.imshow(img[i])\n",
    "        plt.axis('off')\n",
    "        plt.title('img')\n",
    "        \n",
    "        plt.subplot(3, 3, 3*i + 2)\n",
    "        plt.imshow(mask[i], cmap='gray')\n",
    "        plt.axis('off')\n",
    "        plt.title('gt')\n",
    "        \n",
    "        plt.subplot(3, 3, 3*i + 3)\n",
    "        plt.imshow(preds[i, ..., 0], cmap='gray')\n",
    "        plt.axis('off')\n",
    "        plt.title('pred')\n",
    "    return figure\n",
    "\n",
    "def plot_to_image(figure):\n",
    "    buf = io.BytesIO() # buffer = RAM 임시저장소\n",
    "    plt.savefig(buf, format='png')\n",
    "    plt.close(figure)\n",
    "    buf.seek(0)\n",
    "    image = tf.image.decode_png(buf.getvalue(), channels=4)\n",
    "    image = tf.expand_dims(image, 0)\n",
    "    return image"
   ]
  },
  {
   "cell_type": "code",
   "execution_count": null,
   "id": "ede74f83",
   "metadata": {},
   "outputs": [],
   "source": [
    "from tensorflow.keras.callbacks import TensorBoard\n",
    "\n",
    "callbacks = [\n",
    "    TensorBoard('weight/'),\n",
    "    trainHistory(\n",
    "        data=valid_generator[0][:3]\n",
    "        log_dir='weights/'\n",
    "    )\n",
    "]"
   ]
  }
 ],
 "metadata": {
  "kernelspec": {
   "display_name": "Python 3",
   "language": "python",
   "name": "python3"
  },
  "language_info": {
   "codemirror_mode": {
    "name": "ipython",
    "version": 3
   },
   "file_extension": ".py",
   "mimetype": "text/x-python",
   "name": "python",
   "nbconvert_exporter": "python",
   "pygments_lexer": "ipython3",
   "version": "3.6.8"
  }
 },
 "nbformat": 4,
 "nbformat_minor": 5
}
