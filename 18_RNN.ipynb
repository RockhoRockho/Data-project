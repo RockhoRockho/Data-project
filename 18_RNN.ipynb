{
  "nbformat": 4,
  "nbformat_minor": 0,
  "metadata": {
    "colab": {
      "name": "18_RNN.ipynb",
      "private_outputs": true,
      "provenance": [],
      "collapsed_sections": [],
      "authorship_tag": "ABX9TyND6fcqrKgavvgK4hdPeQTq",
      "include_colab_link": true
    },
    "kernelspec": {
      "name": "python3",
      "display_name": "Python 3"
    },
    "language_info": {
      "name": "python"
    }
  },
  "cells": [
    {
      "cell_type": "markdown",
      "metadata": {
        "id": "view-in-github",
        "colab_type": "text"
      },
      "source": [
        "<a href=\"https://colab.research.google.com/github/RockhoRockho/Data-project/blob/main/18_RNN.ipynb\" target=\"_parent\"><img src=\"https://colab.research.google.com/assets/colab-badge.svg\" alt=\"Open In Colab\"/></a>"
      ]
    },
    {
      "cell_type": "markdown",
      "source": [
        "# RNN\n",
        "* 입력과 출력을 시퀀스 단위로 처리하는 스퀀스 모델\n",
        "* 순환 신경망(Recurrent Neural Network)"
      ],
      "metadata": {
        "id": "B6baFgKlt6fy"
      }
    },
    {
      "cell_type": "code",
      "source": [
        "from google.colab import drive\n",
        "drive.mount('/content/drive')"
      ],
      "metadata": {
        "id": "_zTUmJ4Gusb8"
      },
      "execution_count": null,
      "outputs": []
    },
    {
      "cell_type": "code",
      "source": [
        "import cv2\n",
        "import random\n",
        "import numpy as np\n",
        "import pandas as pd\n",
        "import matplotlib.pyplot as plt\n",
        "from pprint import pprint\n",
        "from glob import glob\n",
        "from tqdm import tqdm"
      ],
      "metadata": {
        "id": "a35ccvtGuikt"
      },
      "execution_count": null,
      "outputs": []
    },
    {
      "cell_type": "code",
      "source": [
        "import cv2\n",
        "import os\n",
        "import tensorflow_hub as hub\n",
        "import tensorflow as tf\n",
        "from tensorflow import keras\n",
        "\n",
        "os.environ['CUDA_VISIBLE_DEVICES'] = '1'\n",
        "model = keras.models.load_model(\n",
        "    'drive/MyDrive/ucf11_weights/10-0.98.hdf5',\n",
        "    custom_objects={'KerasLayer': hub.KerasLayer}\n",
        ")\n",
        "\n",
        "model.build([None, 256, 256, 3])\n",
        "model.summary()"
      ],
      "metadata": {
        "id": "OUP_HK-Luqkt"
      },
      "execution_count": null,
      "outputs": []
    },
    {
      "cell_type": "code",
      "source": [
        "feature_extractor = keras.Sequential(\n",
        "    [\n",
        "     keras.Input(shape=(256, 256, 3)),\n",
        "     model.layers[0]\n",
        "    ], name='feature_extractor'\n",
        ")\n",
        "\n",
        "feature_extractor.summary()"
      ],
      "metadata": {
        "id": "VqSLfhB3uvVT"
      },
      "execution_count": null,
      "outputs": []
    },
    {
      "cell_type": "code",
      "source": [
        "os.mkdir('drive/MyDrive/UCF11_updated_npy')\n",
        "os.mkdir('drive/MyDrive/UCF11_updated_npy/train')\n",
        "os.mkdir('drive/MyDrive/UCF11_updated_npy/valid')"
      ],
      "metadata": {
        "id": "8kIty-jQy01S"
      },
      "execution_count": null,
      "outputs": []
    },
    {
      "cell_type": "code",
      "source": [
        "max_frames = 10\n",
        "SAVE_DIR = 'drive/MyDrive/UCF11_updated_npy/'\n",
        "train_df = pd.read_csv('drive/MyDrive/ucf11_train_vid.csv')\n",
        "valid_df = pd.read_csv('drive/MyDrive/ucf11_valid_vid.csv')"
      ],
      "metadata": {
        "id": "OC5X-UAzvOqs"
      },
      "execution_count": null,
      "outputs": []
    },
    {
      "cell_type": "code",
      "source": [
        "for i, elem in tqdm(train_df.iterrows(), total=len(train_df)):\n",
        "  label = elem['label']\n",
        "  cap = cv2.VideoCapture(\n",
        "      elem['file_path']\n",
        "      \n",
        "  )\n",
        "  \n",
        "  frames = []\n",
        "  while True:\n",
        "    ret, frame = cap.read()\n",
        "    if not ret:\n",
        "      break\n",
        "\n",
        "    frame_ = frame.copy()\n",
        "    frame_ = cv2.cvtColor(frame_, cv2.COLOR_BGR2RGB)\n",
        "    frame_ = cv2.resize(frame_, (256, 256))\n",
        "    frame_ = frame_.astype('float32')\n",
        "    frame_ = frame_ / 255.\n",
        "\n",
        "    frames.append(frame_)\n",
        "    if len(frames) == max_frames:\n",
        "      break\n",
        "    \n",
        "  cap.release()\n",
        "  \n",
        "  frames = np.array(frames)\n",
        "  features = feature_extractor.predict(frames)\n",
        "\n",
        "  file_name = SAVE_DIR + f'train/{label}_{i}.npy'\n",
        "  np.save(file_name, features)"
      ],
      "metadata": {
        "id": "uVh3YFGCy60l"
      },
      "execution_count": null,
      "outputs": []
    },
    {
      "cell_type": "code",
      "source": [
        "print(len(glob(SAVE_DIR + 'train/*')))"
      ],
      "metadata": {
        "id": "xCH5LpI10DUJ"
      },
      "execution_count": null,
      "outputs": []
    },
    {
      "cell_type": "code",
      "source": [
        "for i, elem in tqdm(valid_df.iterrows(), total=len(valid_df)):\n",
        "  label = elem['label']\n",
        "  cap = cv2.VideoCapture(\n",
        "      elem['file_path']\n",
        "      \n",
        "  )\n",
        "  \n",
        "  frames = []\n",
        "  while True:\n",
        "    ret, frame = cap.read()\n",
        "    if not ret:\n",
        "      break\n",
        "\n",
        "    frame_ = frame.copy()\n",
        "    frame_ = cv2.cvtColor(frame_, cv2.COLOR_BGR2RGB)\n",
        "    frame_ = cv2.resize(frame_, (256, 256))\n",
        "    frame_ = frame_.astype('float32')\n",
        "    frame_ = frame_ / 255.\n",
        "\n",
        "    frames.append(frame_)\n",
        "    if len(frames) == max_frames:\n",
        "      break\n",
        "    \n",
        "  cap.release()\n",
        "  \n",
        "  frames = np.array(frames)\n",
        "  features = feature_extractor.predict(frames)\n",
        "\n",
        "  file_name = SAVE_DIR + f'valid/{label}_{i}.npy'\n",
        "  np.save(file_name, features)"
      ],
      "metadata": {
        "id": "WASrx2Ru0bRE"
      },
      "execution_count": null,
      "outputs": []
    },
    {
      "cell_type": "code",
      "source": [
        "print(len(glob(SAVE_DIR + 'valid/*')))"
      ],
      "metadata": {
        "id": "e0IGobuT0lkn"
      },
      "execution_count": null,
      "outputs": []
    },
    {
      "cell_type": "code",
      "source": [
        ""
      ],
      "metadata": {
        "id": "9t_DvDrF0u3E"
      },
      "execution_count": null,
      "outputs": []
    }
  ]
}